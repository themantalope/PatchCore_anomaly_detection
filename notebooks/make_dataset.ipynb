{
 "cells": [
  {
   "cell_type": "code",
   "execution_count": 1,
   "metadata": {},
   "outputs": [],
   "source": [
    "%config Completer.use_jedi = False"
   ]
  },
  {
   "cell_type": "code",
   "execution_count": 2,
   "metadata": {},
   "outputs": [],
   "source": [
    "import os\n",
    "import pandas as pd"
   ]
  },
  {
   "cell_type": "code",
   "execution_count": 3,
   "metadata": {},
   "outputs": [],
   "source": [
    "# load up chexpert as the training set\n",
    "data_path = os.path.join('/','data','matt','chexpert')"
   ]
  },
  {
   "cell_type": "code",
   "execution_count": 4,
   "metadata": {},
   "outputs": [
    {
     "data": {
      "text/plain": [
       "True"
      ]
     },
     "execution_count": 4,
     "metadata": {},
     "output_type": "execute_result"
    }
   ],
   "source": [
    "os.path.isdir(data_path)"
   ]
  },
  {
   "cell_type": "code",
   "execution_count": 5,
   "metadata": {},
   "outputs": [],
   "source": [
    "data_df = pd.read_csv(os.path.join(data_path, 'CheXpert-v1.0-small', 'train.csv'))"
   ]
  },
  {
   "cell_type": "code",
   "execution_count": 6,
   "metadata": {},
   "outputs": [
    {
     "data": {
      "text/html": [
       "<div>\n",
       "<style scoped>\n",
       "    .dataframe tbody tr th:only-of-type {\n",
       "        vertical-align: middle;\n",
       "    }\n",
       "\n",
       "    .dataframe tbody tr th {\n",
       "        vertical-align: top;\n",
       "    }\n",
       "\n",
       "    .dataframe thead th {\n",
       "        text-align: right;\n",
       "    }\n",
       "</style>\n",
       "<table border=\"1\" class=\"dataframe\">\n",
       "  <thead>\n",
       "    <tr style=\"text-align: right;\">\n",
       "      <th></th>\n",
       "      <th>Path</th>\n",
       "      <th>Sex</th>\n",
       "      <th>Age</th>\n",
       "      <th>Frontal/Lateral</th>\n",
       "      <th>AP/PA</th>\n",
       "      <th>No Finding</th>\n",
       "      <th>Enlarged Cardiomediastinum</th>\n",
       "      <th>Cardiomegaly</th>\n",
       "      <th>Lung Opacity</th>\n",
       "      <th>Lung Lesion</th>\n",
       "      <th>Edema</th>\n",
       "      <th>Consolidation</th>\n",
       "      <th>Pneumonia</th>\n",
       "      <th>Atelectasis</th>\n",
       "      <th>Pneumothorax</th>\n",
       "      <th>Pleural Effusion</th>\n",
       "      <th>Pleural Other</th>\n",
       "      <th>Fracture</th>\n",
       "      <th>Support Devices</th>\n",
       "    </tr>\n",
       "  </thead>\n",
       "  <tbody>\n",
       "    <tr>\n",
       "      <th>0</th>\n",
       "      <td>CheXpert-v1.0-small/train/patient00001/study1/...</td>\n",
       "      <td>Female</td>\n",
       "      <td>68</td>\n",
       "      <td>Frontal</td>\n",
       "      <td>AP</td>\n",
       "      <td>1.0</td>\n",
       "      <td>NaN</td>\n",
       "      <td>NaN</td>\n",
       "      <td>NaN</td>\n",
       "      <td>NaN</td>\n",
       "      <td>NaN</td>\n",
       "      <td>NaN</td>\n",
       "      <td>NaN</td>\n",
       "      <td>NaN</td>\n",
       "      <td>0.0</td>\n",
       "      <td>NaN</td>\n",
       "      <td>NaN</td>\n",
       "      <td>NaN</td>\n",
       "      <td>1.0</td>\n",
       "    </tr>\n",
       "    <tr>\n",
       "      <th>1</th>\n",
       "      <td>CheXpert-v1.0-small/train/patient00002/study2/...</td>\n",
       "      <td>Female</td>\n",
       "      <td>87</td>\n",
       "      <td>Frontal</td>\n",
       "      <td>AP</td>\n",
       "      <td>NaN</td>\n",
       "      <td>NaN</td>\n",
       "      <td>-1.0</td>\n",
       "      <td>1.0</td>\n",
       "      <td>NaN</td>\n",
       "      <td>-1.0</td>\n",
       "      <td>-1.0</td>\n",
       "      <td>NaN</td>\n",
       "      <td>-1.0</td>\n",
       "      <td>NaN</td>\n",
       "      <td>-1.0</td>\n",
       "      <td>NaN</td>\n",
       "      <td>1.0</td>\n",
       "      <td>NaN</td>\n",
       "    </tr>\n",
       "    <tr>\n",
       "      <th>2</th>\n",
       "      <td>CheXpert-v1.0-small/train/patient00002/study1/...</td>\n",
       "      <td>Female</td>\n",
       "      <td>83</td>\n",
       "      <td>Frontal</td>\n",
       "      <td>AP</td>\n",
       "      <td>NaN</td>\n",
       "      <td>NaN</td>\n",
       "      <td>NaN</td>\n",
       "      <td>1.0</td>\n",
       "      <td>NaN</td>\n",
       "      <td>NaN</td>\n",
       "      <td>-1.0</td>\n",
       "      <td>NaN</td>\n",
       "      <td>NaN</td>\n",
       "      <td>NaN</td>\n",
       "      <td>NaN</td>\n",
       "      <td>NaN</td>\n",
       "      <td>1.0</td>\n",
       "      <td>NaN</td>\n",
       "    </tr>\n",
       "    <tr>\n",
       "      <th>3</th>\n",
       "      <td>CheXpert-v1.0-small/train/patient00002/study1/...</td>\n",
       "      <td>Female</td>\n",
       "      <td>83</td>\n",
       "      <td>Lateral</td>\n",
       "      <td>NaN</td>\n",
       "      <td>NaN</td>\n",
       "      <td>NaN</td>\n",
       "      <td>NaN</td>\n",
       "      <td>1.0</td>\n",
       "      <td>NaN</td>\n",
       "      <td>NaN</td>\n",
       "      <td>-1.0</td>\n",
       "      <td>NaN</td>\n",
       "      <td>NaN</td>\n",
       "      <td>NaN</td>\n",
       "      <td>NaN</td>\n",
       "      <td>NaN</td>\n",
       "      <td>1.0</td>\n",
       "      <td>NaN</td>\n",
       "    </tr>\n",
       "    <tr>\n",
       "      <th>4</th>\n",
       "      <td>CheXpert-v1.0-small/train/patient00003/study1/...</td>\n",
       "      <td>Male</td>\n",
       "      <td>41</td>\n",
       "      <td>Frontal</td>\n",
       "      <td>AP</td>\n",
       "      <td>NaN</td>\n",
       "      <td>NaN</td>\n",
       "      <td>NaN</td>\n",
       "      <td>NaN</td>\n",
       "      <td>NaN</td>\n",
       "      <td>1.0</td>\n",
       "      <td>NaN</td>\n",
       "      <td>NaN</td>\n",
       "      <td>NaN</td>\n",
       "      <td>0.0</td>\n",
       "      <td>NaN</td>\n",
       "      <td>NaN</td>\n",
       "      <td>NaN</td>\n",
       "      <td>NaN</td>\n",
       "    </tr>\n",
       "  </tbody>\n",
       "</table>\n",
       "</div>"
      ],
      "text/plain": [
       "                                                Path     Sex  Age  \\\n",
       "0  CheXpert-v1.0-small/train/patient00001/study1/...  Female   68   \n",
       "1  CheXpert-v1.0-small/train/patient00002/study2/...  Female   87   \n",
       "2  CheXpert-v1.0-small/train/patient00002/study1/...  Female   83   \n",
       "3  CheXpert-v1.0-small/train/patient00002/study1/...  Female   83   \n",
       "4  CheXpert-v1.0-small/train/patient00003/study1/...    Male   41   \n",
       "\n",
       "  Frontal/Lateral AP/PA  No Finding  Enlarged Cardiomediastinum  Cardiomegaly  \\\n",
       "0         Frontal    AP         1.0                         NaN           NaN   \n",
       "1         Frontal    AP         NaN                         NaN          -1.0   \n",
       "2         Frontal    AP         NaN                         NaN           NaN   \n",
       "3         Lateral   NaN         NaN                         NaN           NaN   \n",
       "4         Frontal    AP         NaN                         NaN           NaN   \n",
       "\n",
       "   Lung Opacity  Lung Lesion  Edema  Consolidation  Pneumonia  Atelectasis  \\\n",
       "0           NaN          NaN    NaN            NaN        NaN          NaN   \n",
       "1           1.0          NaN   -1.0           -1.0        NaN         -1.0   \n",
       "2           1.0          NaN    NaN           -1.0        NaN          NaN   \n",
       "3           1.0          NaN    NaN           -1.0        NaN          NaN   \n",
       "4           NaN          NaN    1.0            NaN        NaN          NaN   \n",
       "\n",
       "   Pneumothorax  Pleural Effusion  Pleural Other  Fracture  Support Devices  \n",
       "0           0.0               NaN            NaN       NaN              1.0  \n",
       "1           NaN              -1.0            NaN       1.0              NaN  \n",
       "2           NaN               NaN            NaN       1.0              NaN  \n",
       "3           NaN               NaN            NaN       1.0              NaN  \n",
       "4           0.0               NaN            NaN       NaN              NaN  "
      ]
     },
     "execution_count": 6,
     "metadata": {},
     "output_type": "execute_result"
    }
   ],
   "source": [
    "data_df.head()"
   ]
  },
  {
   "cell_type": "code",
   "execution_count": 7,
   "metadata": {},
   "outputs": [],
   "source": [
    "data_df = data_df.fillna(0)"
   ]
  },
  {
   "cell_type": "code",
   "execution_count": 8,
   "metadata": {},
   "outputs": [
    {
     "data": {
      "text/html": [
       "<div>\n",
       "<style scoped>\n",
       "    .dataframe tbody tr th:only-of-type {\n",
       "        vertical-align: middle;\n",
       "    }\n",
       "\n",
       "    .dataframe tbody tr th {\n",
       "        vertical-align: top;\n",
       "    }\n",
       "\n",
       "    .dataframe thead th {\n",
       "        text-align: right;\n",
       "    }\n",
       "</style>\n",
       "<table border=\"1\" class=\"dataframe\">\n",
       "  <thead>\n",
       "    <tr style=\"text-align: right;\">\n",
       "      <th></th>\n",
       "      <th>Path</th>\n",
       "      <th>Sex</th>\n",
       "      <th>Age</th>\n",
       "      <th>Frontal/Lateral</th>\n",
       "      <th>AP/PA</th>\n",
       "      <th>No Finding</th>\n",
       "      <th>Enlarged Cardiomediastinum</th>\n",
       "      <th>Cardiomegaly</th>\n",
       "      <th>Lung Opacity</th>\n",
       "      <th>Lung Lesion</th>\n",
       "      <th>Edema</th>\n",
       "      <th>Consolidation</th>\n",
       "      <th>Pneumonia</th>\n",
       "      <th>Atelectasis</th>\n",
       "      <th>Pneumothorax</th>\n",
       "      <th>Pleural Effusion</th>\n",
       "      <th>Pleural Other</th>\n",
       "      <th>Fracture</th>\n",
       "      <th>Support Devices</th>\n",
       "    </tr>\n",
       "  </thead>\n",
       "  <tbody>\n",
       "    <tr>\n",
       "      <th>0</th>\n",
       "      <td>CheXpert-v1.0-small/train/patient00001/study1/...</td>\n",
       "      <td>Female</td>\n",
       "      <td>68</td>\n",
       "      <td>Frontal</td>\n",
       "      <td>AP</td>\n",
       "      <td>1.0</td>\n",
       "      <td>0.0</td>\n",
       "      <td>0.0</td>\n",
       "      <td>0.0</td>\n",
       "      <td>0.0</td>\n",
       "      <td>0.0</td>\n",
       "      <td>0.0</td>\n",
       "      <td>0.0</td>\n",
       "      <td>0.0</td>\n",
       "      <td>0.0</td>\n",
       "      <td>0.0</td>\n",
       "      <td>0.0</td>\n",
       "      <td>0.0</td>\n",
       "      <td>1.0</td>\n",
       "    </tr>\n",
       "    <tr>\n",
       "      <th>1</th>\n",
       "      <td>CheXpert-v1.0-small/train/patient00002/study2/...</td>\n",
       "      <td>Female</td>\n",
       "      <td>87</td>\n",
       "      <td>Frontal</td>\n",
       "      <td>AP</td>\n",
       "      <td>0.0</td>\n",
       "      <td>0.0</td>\n",
       "      <td>-1.0</td>\n",
       "      <td>1.0</td>\n",
       "      <td>0.0</td>\n",
       "      <td>-1.0</td>\n",
       "      <td>-1.0</td>\n",
       "      <td>0.0</td>\n",
       "      <td>-1.0</td>\n",
       "      <td>0.0</td>\n",
       "      <td>-1.0</td>\n",
       "      <td>0.0</td>\n",
       "      <td>1.0</td>\n",
       "      <td>0.0</td>\n",
       "    </tr>\n",
       "    <tr>\n",
       "      <th>2</th>\n",
       "      <td>CheXpert-v1.0-small/train/patient00002/study1/...</td>\n",
       "      <td>Female</td>\n",
       "      <td>83</td>\n",
       "      <td>Frontal</td>\n",
       "      <td>AP</td>\n",
       "      <td>0.0</td>\n",
       "      <td>0.0</td>\n",
       "      <td>0.0</td>\n",
       "      <td>1.0</td>\n",
       "      <td>0.0</td>\n",
       "      <td>0.0</td>\n",
       "      <td>-1.0</td>\n",
       "      <td>0.0</td>\n",
       "      <td>0.0</td>\n",
       "      <td>0.0</td>\n",
       "      <td>0.0</td>\n",
       "      <td>0.0</td>\n",
       "      <td>1.0</td>\n",
       "      <td>0.0</td>\n",
       "    </tr>\n",
       "    <tr>\n",
       "      <th>3</th>\n",
       "      <td>CheXpert-v1.0-small/train/patient00002/study1/...</td>\n",
       "      <td>Female</td>\n",
       "      <td>83</td>\n",
       "      <td>Lateral</td>\n",
       "      <td>0</td>\n",
       "      <td>0.0</td>\n",
       "      <td>0.0</td>\n",
       "      <td>0.0</td>\n",
       "      <td>1.0</td>\n",
       "      <td>0.0</td>\n",
       "      <td>0.0</td>\n",
       "      <td>-1.0</td>\n",
       "      <td>0.0</td>\n",
       "      <td>0.0</td>\n",
       "      <td>0.0</td>\n",
       "      <td>0.0</td>\n",
       "      <td>0.0</td>\n",
       "      <td>1.0</td>\n",
       "      <td>0.0</td>\n",
       "    </tr>\n",
       "    <tr>\n",
       "      <th>4</th>\n",
       "      <td>CheXpert-v1.0-small/train/patient00003/study1/...</td>\n",
       "      <td>Male</td>\n",
       "      <td>41</td>\n",
       "      <td>Frontal</td>\n",
       "      <td>AP</td>\n",
       "      <td>0.0</td>\n",
       "      <td>0.0</td>\n",
       "      <td>0.0</td>\n",
       "      <td>0.0</td>\n",
       "      <td>0.0</td>\n",
       "      <td>1.0</td>\n",
       "      <td>0.0</td>\n",
       "      <td>0.0</td>\n",
       "      <td>0.0</td>\n",
       "      <td>0.0</td>\n",
       "      <td>0.0</td>\n",
       "      <td>0.0</td>\n",
       "      <td>0.0</td>\n",
       "      <td>0.0</td>\n",
       "    </tr>\n",
       "  </tbody>\n",
       "</table>\n",
       "</div>"
      ],
      "text/plain": [
       "                                                Path     Sex  Age  \\\n",
       "0  CheXpert-v1.0-small/train/patient00001/study1/...  Female   68   \n",
       "1  CheXpert-v1.0-small/train/patient00002/study2/...  Female   87   \n",
       "2  CheXpert-v1.0-small/train/patient00002/study1/...  Female   83   \n",
       "3  CheXpert-v1.0-small/train/patient00002/study1/...  Female   83   \n",
       "4  CheXpert-v1.0-small/train/patient00003/study1/...    Male   41   \n",
       "\n",
       "  Frontal/Lateral AP/PA  No Finding  Enlarged Cardiomediastinum  Cardiomegaly  \\\n",
       "0         Frontal    AP         1.0                         0.0           0.0   \n",
       "1         Frontal    AP         0.0                         0.0          -1.0   \n",
       "2         Frontal    AP         0.0                         0.0           0.0   \n",
       "3         Lateral     0         0.0                         0.0           0.0   \n",
       "4         Frontal    AP         0.0                         0.0           0.0   \n",
       "\n",
       "   Lung Opacity  Lung Lesion  Edema  Consolidation  Pneumonia  Atelectasis  \\\n",
       "0           0.0          0.0    0.0            0.0        0.0          0.0   \n",
       "1           1.0          0.0   -1.0           -1.0        0.0         -1.0   \n",
       "2           1.0          0.0    0.0           -1.0        0.0          0.0   \n",
       "3           1.0          0.0    0.0           -1.0        0.0          0.0   \n",
       "4           0.0          0.0    1.0            0.0        0.0          0.0   \n",
       "\n",
       "   Pneumothorax  Pleural Effusion  Pleural Other  Fracture  Support Devices  \n",
       "0           0.0               0.0            0.0       0.0              1.0  \n",
       "1           0.0              -1.0            0.0       1.0              0.0  \n",
       "2           0.0               0.0            0.0       1.0              0.0  \n",
       "3           0.0               0.0            0.0       1.0              0.0  \n",
       "4           0.0               0.0            0.0       0.0              0.0  "
      ]
     },
     "execution_count": 8,
     "metadata": {},
     "output_type": "execute_result"
    }
   ],
   "source": [
    "data_df.head()"
   ]
  },
  {
   "cell_type": "code",
   "execution_count": 9,
   "metadata": {},
   "outputs": [],
   "source": [
    "normies = data_df[data_df['Frontal/Lateral'] == 'Frontal']"
   ]
  },
  {
   "cell_type": "code",
   "execution_count": 10,
   "metadata": {},
   "outputs": [],
   "source": [
    "normies = normies[normies['No Finding'] == 1.0]"
   ]
  },
  {
   "cell_type": "code",
   "execution_count": 11,
   "metadata": {},
   "outputs": [],
   "source": [
    "normies = normies[normies['Support Devices']==0.0]"
   ]
  },
  {
   "cell_type": "code",
   "execution_count": 12,
   "metadata": {},
   "outputs": [
    {
     "data": {
      "text/plain": [
       "(9474, 19)"
      ]
     },
     "execution_count": 12,
     "metadata": {},
     "output_type": "execute_result"
    }
   ],
   "source": [
    "normies.shape"
   ]
  },
  {
   "cell_type": "code",
   "execution_count": 13,
   "metadata": {},
   "outputs": [
    {
     "data": {
      "text/plain": [
       "'/data/matt/chexpert/CheXpert-v1.0-small/train/patient00004/study1/view1_frontal.jpg'"
      ]
     },
     "execution_count": 13,
     "metadata": {},
     "output_type": "execute_result"
    }
   ],
   "source": [
    "os.path.join(data_path, normies.at[normies.index[0], 'Path'])"
   ]
  },
  {
   "cell_type": "code",
   "execution_count": 14,
   "metadata": {},
   "outputs": [
    {
     "data": {
      "text/plain": [
       "True"
      ]
     },
     "execution_count": 14,
     "metadata": {},
     "output_type": "execute_result"
    }
   ],
   "source": [
    "os.path.isfile(_)"
   ]
  },
  {
   "cell_type": "code",
   "execution_count": 15,
   "metadata": {},
   "outputs": [],
   "source": [
    "from PIL import Image"
   ]
  },
  {
   "cell_type": "code",
   "execution_count": 16,
   "metadata": {},
   "outputs": [],
   "source": [
    "import PIL"
   ]
  },
  {
   "cell_type": "code",
   "execution_count": 17,
   "metadata": {},
   "outputs": [],
   "source": [
    "import skimage"
   ]
  },
  {
   "cell_type": "code",
   "execution_count": 18,
   "metadata": {},
   "outputs": [],
   "source": [
    "from skimage.io import imread"
   ]
  },
  {
   "cell_type": "code",
   "execution_count": 19,
   "metadata": {},
   "outputs": [],
   "source": [
    "im = imread('/data/matt/chexpert/CheXpert-v1.0-small/train/patient00004/study1/view1_frontal.jpg')"
   ]
  },
  {
   "cell_type": "code",
   "execution_count": 20,
   "metadata": {},
   "outputs": [],
   "source": [
    "import matplotlib.pyplot as plt"
   ]
  },
  {
   "cell_type": "code",
   "execution_count": 21,
   "metadata": {},
   "outputs": [
    {
     "data": {
      "image/png": "[encoded data removed]",
      "text/plain": [
       "<Figure size 432x288 with 1 Axes>"
      ]
     },
     "metadata": {
      "needs_background": "light"
     },
     "output_type": "display_data"
    }
   ],
   "source": [
    "plt.imshow(im, cmap='gray')\n",
    "plt.show()"
   ]
  },
  {
   "cell_type": "code",
   "execution_count": 22,
   "metadata": {},
   "outputs": [
    {
     "data": {
      "text/plain": [
       "(320, 371)"
      ]
     },
     "execution_count": 22,
     "metadata": {},
     "output_type": "execute_result"
    }
   ],
   "source": [
    "im.shape"
   ]
  },
  {
   "cell_type": "code",
   "execution_count": 23,
   "metadata": {},
   "outputs": [
    {
     "data": {
      "text/plain": [
       "118720"
      ]
     },
     "execution_count": 23,
     "metadata": {},
     "output_type": "execute_result"
    }
   ],
   "source": [
    "im.size"
   ]
  },
  {
   "cell_type": "code",
   "execution_count": 24,
   "metadata": {},
   "outputs": [],
   "source": [
    "import torch"
   ]
  },
  {
   "cell_type": "code",
   "execution_count": 25,
   "metadata": {},
   "outputs": [],
   "source": [
    "a = torch.from_numpy(im)"
   ]
  },
  {
   "cell_type": "code",
   "execution_count": 26,
   "metadata": {},
   "outputs": [
    {
     "data": {
      "text/plain": [
       "torch.Size([320, 371])"
      ]
     },
     "execution_count": 26,
     "metadata": {},
     "output_type": "execute_result"
    }
   ],
   "source": [
    "a.size()"
   ]
  },
  {
   "cell_type": "code",
   "execution_count": null,
   "metadata": {},
   "outputs": [],
   "source": []
  },
  {
   "cell_type": "code",
   "execution_count": 31,
   "metadata": {},
   "outputs": [],
   "source": [
    "normies.to_csv(os.path.join(data_path, 'CheXpert-v1.0-small','normals.csv'), index=False)"
   ]
  },
  {
   "cell_type": "code",
   "execution_count": 32,
   "metadata": {},
   "outputs": [],
   "source": [
    "# find the json we made\n",
    "import cv2"
   ]
  },
  {
   "cell_type": "code",
   "execution_count": 33,
   "metadata": {},
   "outputs": [],
   "source": [
    "json_file = os.path.join(data_path, 'CheXpert-v1.0-small', 'valid', 'patient64579','study1','view1_frontal.json')"
   ]
  },
  {
   "cell_type": "code",
   "execution_count": 34,
   "metadata": {},
   "outputs": [
    {
     "data": {
      "text/plain": [
       "True"
      ]
     },
     "execution_count": 34,
     "metadata": {},
     "output_type": "execute_result"
    }
   ],
   "source": [
    "os.path.isfile(json_file)"
   ]
  },
  {
   "cell_type": "code",
   "execution_count": 35,
   "metadata": {},
   "outputs": [],
   "source": [
    "import json"
   ]
  },
  {
   "cell_type": "code",
   "execution_count": 36,
   "metadata": {},
   "outputs": [],
   "source": [
    "with open(json_file) as f:\n",
    "    jsd= json.load(f)"
   ]
  },
  {
   "cell_type": "code",
   "execution_count": 37,
   "metadata": {},
   "outputs": [
    {
     "data": {
      "text/plain": [
       "{'version': '4.5.6',\n",
       " 'flags': {},\n",
       " 'shapes': [{'label': 'consolidation',\n",
       "   'points': [[58.25531914893617, 270.2127659574468],\n",
       "    [65.91489361702128, 258.2978723404255],\n",
       "    [72.29787234042553, 249.7872340425532],\n",
       "    [78.25531914893617, 240.0],\n",
       "    [85.91489361702128, 234.04255319148936],\n",
       "    [89.31914893617021, 231.48936170212764],\n",
       "    [97.82978723404256, 226.80851063829786],\n",
       "    [111.02127659574468, 222.9787234042553],\n",
       "    [122.51063829787233, 217.44680851063828],\n",
       "    [124.2127659574468, 222.9787234042553],\n",
       "    [123.7872340425532, 233.1914893617021],\n",
       "    [123.36170212765958, 241.27659574468083],\n",
       "    [126.7659574468085, 252.7659574468085],\n",
       "    [128.46808510638297, 259.1489361702128],\n",
       "    [129.74468085106383, 264.25531914893617],\n",
       "    [126.34042553191489, 266.8085106382979],\n",
       "    [121.23404255319149, 266.8085106382979],\n",
       "    [111.44680851063829, 265.1063829787234],\n",
       "    [102.08510638297872, 265.1063829787234],\n",
       "    [93.57446808510637, 265.531914893617],\n",
       "    [85.91489361702128, 266.8085106382979],\n",
       "    [75.70212765957446, 270.6382978723404],\n",
       "    [63.787234042553195, 275.74468085106383],\n",
       "    [58.25531914893617, 280.0],\n",
       "    [52.723404255319146, 286.3829787234042],\n",
       "    [55.27659574468085, 275.74468085106383]],\n",
       "   'group_id': None,\n",
       "   'shape_type': 'polygon',\n",
       "   'flags': {}}],\n",
       " 'imagePath': 'view1_frontal.jpg',\n",
       " 'imageData': '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',\n",
       " 'imageHeight': 320,\n",
       " 'imageWidth': 389}"
      ]
     },
     "execution_count": 37,
     "metadata": {},
     "output_type": "execute_result"
    }
   ],
   "source": [
    "jsd"
   ]
  },
  {
   "cell_type": "code",
   "execution_count": 38,
   "metadata": {},
   "outputs": [],
   "source": [
    "import numpy as np"
   ]
  },
  {
   "cell_type": "code",
   "execution_count": 39,
   "metadata": {},
   "outputs": [],
   "source": [
    "mask = np.zeros(shape=(jsd['imageHeight'], jsd['imageWidth']))"
   ]
  },
  {
   "cell_type": "code",
   "execution_count": 43,
   "metadata": {},
   "outputs": [
    {
     "ename": "error",
     "evalue": "OpenCV(4.5.2) /tmp/pip-req-build-eirhwqtr/opencv/modules/imgproc/src/drawing.cpp:2395: error: (-215:Assertion failed) p.checkVector(2, CV_32S) >= 0 in function 'fillPoly'\n",
     "output_type": "error",
     "traceback": [
      "\u001b[0;31m---------------------------------------------------------------------------\u001b[0m",
      "\u001b[0;31merror\u001b[0m                                     Traceback (most recent call last)",
      "\u001b[0;32m<ipython-input-43-e78cdbfbc523>\u001b[0m in \u001b[0;36m<module>\u001b[0;34m\u001b[0m\n\u001b[0;32m----> 1\u001b[0;31m \u001b[0mcv2\u001b[0m\u001b[0;34m.\u001b[0m\u001b[0mfillPoly\u001b[0m\u001b[0;34m(\u001b[0m\u001b[0mmask\u001b[0m\u001b[0;34m,\u001b[0m \u001b[0mnp\u001b[0m\u001b[0;34m.\u001b[0m\u001b[0marray\u001b[0m\u001b[0;34m(\u001b[0m\u001b[0mjsd\u001b[0m\u001b[0;34m[\u001b[0m\u001b[0;34m'shapes'\u001b[0m\u001b[0;34m]\u001b[0m\u001b[0;34m[\u001b[0m\u001b[0;36m0\u001b[0m\u001b[0;34m]\u001b[0m\u001b[0;34m[\u001b[0m\u001b[0;34m'points'\u001b[0m\u001b[0;34m]\u001b[0m\u001b[0;34m)\u001b[0m\u001b[0;34m,\u001b[0m \u001b[0mcolor\u001b[0m\u001b[0;34m=\u001b[0m\u001b[0;34m[\u001b[0m\u001b[0;36m255\u001b[0m\u001b[0;34m]\u001b[0m\u001b[0;34m)\u001b[0m\u001b[0;34m\u001b[0m\u001b[0;34m\u001b[0m\u001b[0m\n\u001b[0m",
      "\u001b[0;31merror\u001b[0m: OpenCV(4.5.2) /tmp/pip-req-build-eirhwqtr/opencv/modules/imgproc/src/drawing.cpp:2395: error: (-215:Assertion failed) p.checkVector(2, CV_32S) >= 0 in function 'fillPoly'\n"
     ]
    }
   ],
   "source": [
    "cv2.fillPoly(mask, np.array(jsd['shapes'][0]['points']), color=[255])"
   ]
  },
  {
   "cell_type": "code",
   "execution_count": 42,
   "metadata": {},
   "outputs": [
    {
     "data": {
      "text/plain": [
       "array([[ 58.25531915, 270.21276596],\n",
       "       [ 65.91489362, 258.29787234],\n",
       "       [ 72.29787234, 249.78723404],\n",
       "       [ 78.25531915, 240.        ],\n",
       "       [ 85.91489362, 234.04255319],\n",
       "       [ 89.31914894, 231.4893617 ],\n",
       "       [ 97.82978723, 226.80851064],\n",
       "       [111.0212766 , 222.9787234 ],\n",
       "       [122.5106383 , 217.44680851],\n",
       "       [124.21276596, 222.9787234 ],\n",
       "       [123.78723404, 233.19148936],\n",
       "       [123.36170213, 241.27659574],\n",
       "       [126.76595745, 252.76595745],\n",
       "       [128.46808511, 259.14893617],\n",
       "       [129.74468085, 264.25531915],\n",
       "       [126.34042553, 266.80851064],\n",
       "       [121.23404255, 266.80851064],\n",
       "       [111.44680851, 265.10638298],\n",
       "       [102.08510638, 265.10638298],\n",
       "       [ 93.57446809, 265.53191489],\n",
       "       [ 85.91489362, 266.80851064],\n",
       "       [ 75.70212766, 270.63829787],\n",
       "       [ 63.78723404, 275.74468085],\n",
       "       [ 58.25531915, 280.        ],\n",
       "       [ 52.72340426, 286.38297872],\n",
       "       [ 55.27659574, 275.74468085]])"
      ]
     },
     "execution_count": 42,
     "metadata": {},
     "output_type": "execute_result"
    }
   ],
   "source": [
    "np.array(jsd['shapes'][0]['points'])"
   ]
  },
  {
   "cell_type": "code",
   "execution_count": 44,
   "metadata": {},
   "outputs": [
    {
     "name": "stdout",
     "output_type": "stream",
     "text": [
      "Collecting labelme\n",
      "  Downloading labelme-4.5.9.tar.gz (1.5 MB)\n",
      "\u001b[K     |████████████████████████████████| 1.5 MB 10.5 MB/s eta 0:00:01\n",
      "\u001b[?25hCollecting imgviz>=0.11.0\n",
      "  Downloading imgviz-1.2.6.tar.gz (7.7 MB)\n",
      "\u001b[K     |████████████████████████████████| 7.7 MB 7.9 MB/s eta 0:00:01\n",
      "\u001b[?25h  Installing build dependencies ... \u001b[?25ldone\n",
      "\u001b[?25h  Getting requirements to build wheel ... \u001b[?25ldone\n",
      "\u001b[?25h    Preparing wheel metadata ... \u001b[?25ldone\n",
      "\u001b[?25hCollecting matplotlib<3.3\n",
      "  Downloading matplotlib-3.2.2-cp38-cp38-manylinux1_x86_64.whl (12.4 MB)\n",
      "\u001b[K     |████████████████████████████████| 12.4 MB 12.3 MB/s eta 0:00:01\n",
      "\u001b[?25hRequirement already satisfied: numpy in /home/matt/anaconda2/envs/patchcore/lib/python3.8/site-packages (from labelme) (1.20.1)\n",
      "Requirement already satisfied: Pillow>=2.8.0 in /home/matt/anaconda2/envs/patchcore/lib/python3.8/site-packages (from labelme) (8.2.0)\n",
      "Requirement already satisfied: PyYAML in /home/matt/anaconda2/envs/patchcore/lib/python3.8/site-packages (from labelme) (5.4.1)\n",
      "Requirement already satisfied: qtpy in /home/matt/anaconda2/envs/patchcore/lib/python3.8/site-packages (from labelme) (1.9.0)\n",
      "Collecting termcolor\n",
      "  Using cached termcolor-1.1.0.tar.gz (3.9 kB)\n",
      "Requirement already satisfied: kiwisolver>=1.0.1 in /home/matt/anaconda2/envs/patchcore/lib/python3.8/site-packages (from matplotlib<3.3->labelme) (1.3.1)\n",
      "Requirement already satisfied: python-dateutil>=2.1 in /home/matt/anaconda2/envs/patchcore/lib/python3.8/site-packages (from matplotlib<3.3->labelme) (2.8.1)\n",
      "Requirement already satisfied: pyparsing!=2.0.4,!=2.1.2,!=2.1.6,>=2.0.1 in /home/matt/anaconda2/envs/patchcore/lib/python3.8/site-packages (from matplotlib<3.3->labelme) (2.4.7)\n",
      "Requirement already satisfied: cycler>=0.10 in /home/matt/anaconda2/envs/patchcore/lib/python3.8/site-packages (from matplotlib<3.3->labelme) (0.10.0)\n",
      "Requirement already satisfied: six in /home/matt/anaconda2/envs/patchcore/lib/python3.8/site-packages (from cycler>=0.10->matplotlib<3.3->labelme) (1.15.0)\n",
      "Building wheels for collected packages: labelme, imgviz, termcolor\n",
      "  Building wheel for labelme (setup.py) ... \u001b[?25ldone\n",
      "\u001b[?25h  Created wheel for labelme: filename=labelme-4.5.9-py3-none-any.whl size=1465407 sha256=d1eef77046b3ae25841fd1a8a72e96158e485a323e69b90b1c901faf1d53f9cc\n",
      "  Stored in directory: /home/matt/.cache/pip/wheels/1c/45/df/66c625104a48f821f7fbf678d4c73a38c84347db57edf0a80a\n",
      "  Building wheel for imgviz (PEP 517) ... \u001b[?25ldone\n",
      "\u001b[?25h  Created wheel for imgviz: filename=imgviz-1.2.6-py3-none-any.whl size=7674073 sha256=e1c55549d5fc151dbea864dc13c8805f52cd4ad6062eab210635a1c50eccd804\n",
      "  Stored in directory: /home/matt/.cache/pip/wheels/75/20/06/d41e8f718f7b647376df3cd8106f094597201151bd1352f953\n",
      "  Building wheel for termcolor (setup.py) ... \u001b[?25ldone\n",
      "\u001b[?25h  Created wheel for termcolor: filename=termcolor-1.1.0-py3-none-any.whl size=4829 sha256=db2dccc9e4d65f03d51559640a99d4aa86d58aa691a4a52e5917e4181ec00b72\n",
      "  Stored in directory: /home/matt/.cache/pip/wheels/a0/16/9c/5473df82468f958445479c59e784896fa24f4a5fc024b0f501\n",
      "Successfully built labelme imgviz termcolor\n",
      "Installing collected packages: matplotlib, termcolor, imgviz, labelme\n",
      "  Attempting uninstall: matplotlib\n",
      "    Found existing installation: matplotlib 3.3.4\n",
      "    Uninstalling matplotlib-3.3.4:\n",
      "      Successfully uninstalled matplotlib-3.3.4\n",
      "Successfully installed imgviz-1.2.6 labelme-4.5.9 matplotlib-3.2.2 termcolor-1.1.0\n"
     ]
    }
   ],
   "source": [
    "!pip install labelme"
   ]
  },
  {
   "cell_type": "code",
   "execution_count": 45,
   "metadata": {},
   "outputs": [],
   "source": [
    "from labelme import utils"
   ]
  },
  {
   "cell_type": "code",
   "execution_count": 47,
   "metadata": {},
   "outputs": [],
   "source": [
    "mask = utils.shape_to_mask((jsd['imageHeight'], jsd['imageWidth']), jsd['shapes'][0]['points'])"
   ]
  },
  {
   "cell_type": "code",
   "execution_count": 48,
   "metadata": {},
   "outputs": [
    {
     "data": {
      "image/png": "[encoded data removed]",
      "text/plain": [
       "<Figure size 432x288 with 1 Axes>"
      ]
     },
     "metadata": {
      "needs_background": "light"
     },
     "output_type": "display_data"
    }
   ],
   "source": [
    "plt.imshow(mask)\n",
    "plt.show()"
   ]
  },
  {
   "cell_type": "code",
   "execution_count": 49,
   "metadata": {},
   "outputs": [],
   "source": [
    "# save the mask\n",
    "mim = Image.fromarray(mask)"
   ]
  },
  {
   "cell_type": "code",
   "execution_count": 50,
   "metadata": {},
   "outputs": [],
   "source": [
    "mim.save(os.path.join(data_path, 'CheXpert-v1.0-small', 'valid', 'patient64579','study1','view1_frontal_mask.jpg'))"
   ]
  },
  {
   "cell_type": "code",
   "execution_count": 52,
   "metadata": {},
   "outputs": [
    {
     "data": {
      "text/plain": [
       "'view1_frontal.jpg'"
      ]
     },
     "execution_count": 52,
     "metadata": {},
     "output_type": "execute_result"
    }
   ],
   "source": [
    "os.path.basename('/data/matt/chexpert/CheXpert-v1.0-small/train/patient00004/study1/view1_frontal.jpg')"
   ]
  },
  {
   "cell_type": "code",
   "execution_count": 27,
   "metadata": {},
   "outputs": [
    {
     "data": {
      "text/plain": [
       "'/data/matt/chexpert/CheXpert-v1.0-small/valid/patient64579/study1/view1_frontal_mask.jpg'"
      ]
     },
     "execution_count": 27,
     "metadata": {},
     "output_type": "execute_result"
    }
   ],
   "source": [
    "os.path.join(data_path, 'CheXpert-v1.0-small', 'valid', 'patient64579','study1','view1_frontal_mask.jpg')"
   ]
  },
  {
   "cell_type": "code",
   "execution_count": null,
   "metadata": {},
   "outputs": [],
   "source": []
  }
 ],
 "metadata": {
  "kernelspec": {
   "display_name": "Python 3 (ipykernel)",
   "language": "python",
   "name": "python3"
  },
  "language_info": {
   "codemirror_mode": {
    "name": "ipython",
    "version": 3
   },
   "file_extension": ".py",
   "mimetype": "text/x-python",
   "name": "python",
   "nbconvert_exporter": "python",
   "pygments_lexer": "ipython3",
   "version": "3.8.10"
  }
 },
 "nbformat": 4,
 "nbformat_minor": 4
}
